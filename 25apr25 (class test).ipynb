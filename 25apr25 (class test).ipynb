{
 "cells": [
  {
   "cell_type": "code",
   "execution_count": 49,
   "id": "d04ab814-4e28-497b-b193-5753651239e2",
   "metadata": {},
   "outputs": [
    {
     "data": {
      "text/plain": [
       "{'hello': 5, 'everyone': 8, 'all': 3, 'the': 3, 'best': 4}"
      ]
     },
     "execution_count": 49,
     "metadata": {},
     "output_type": "execute_result"
    }
   ],
   "source": [
    "# Q 1\n",
    "st = ['hello','everyone','all','the','best']\n",
    "length = {i:len(i) for i in st}\n",
    "length"
   ]
  },
  {
   "cell_type": "code",
   "execution_count": null,
   "id": "8dcaaf06-a8ec-418c-aea6-376f42115274",
   "metadata": {},
   "outputs": [],
   "source": []
  },
  {
   "cell_type": "markdown",
   "id": "112dd4f2-ffae-46ef-a120-a320b615df2c",
   "metadata": {},
   "source": [
    "Q 2\n",
    "\n",
    "covariance: 1) covariance gives only relationship between two variables\n",
    "\n",
    "\n",
    "correlation: 1) correlation gives strength as well as relationship between two variables\n",
    "             2) correlation ranges between -1 to +1. -1 being negative correlation, whereas +1 represents +ve correlation. correlation 0 means no \n",
    "                relation between 2 variables\n",
    "            3) it is normalized version of covariance\n"
   ]
  },
  {
   "cell_type": "markdown",
   "id": "e447a4d3-1418-45fe-9186-be3165770e2b",
   "metadata": {},
   "source": [
    "Q 3 \n",
    "\n",
    "-CLT stands for Central Limit Theorem.\n",
    "-CLT is performed on large datasets , i.e., no of observations more than 30 .\n",
    "-CLT assumes that large datasets are normally distributed, i.e., it has bell shaped curve.\n",
    "-samples should be independent of each other."
   ]
  },
  {
   "cell_type": "markdown",
   "id": "0ee466fe-4d53-4196-8bc1-62d00becd789",
   "metadata": {},
   "source": [
    "Q 4\n",
    "\n",
    "1) sets are unordered.whereas, dictionary is ordered.\n",
    "2)both set and dictionary are represented with curly brackets, but elements of dictionary are in {key:value} format.\n"
   ]
  },
  {
   "cell_type": "code",
   "execution_count": 50,
   "id": "1fb18030-4a5e-4ee2-a95d-29a890309157",
   "metadata": {},
   "outputs": [
    {
     "data": {
      "text/plain": [
       "array([ 1,  4,  7, 10, 13, 16, 19])"
      ]
     },
     "execution_count": 50,
     "metadata": {},
     "output_type": "execute_result"
    }
   ],
   "source": [
    "# Q 5\n",
    "import numpy as np\n",
    "\n",
    "# Linspace:\n",
    "# syntax : np.linspace(start,end, stepsize)\n",
    "np.linspace(0,20,5)\n",
    "# arrange:\n",
    "# arange is gives data in given range which are equidistanced.\n",
    "np.arange(1,21,3)"
   ]
  },
  {
   "cell_type": "markdown",
   "id": "d15b7bd7-df4a-4762-97de-1ce658c633ba",
   "metadata": {},
   "source": [
    "Q 6\n",
    "\n",
    "- type 1 error is represented by aplha\n",
    "- type 1 error is false positive, means null hypothesis is rejected even if it is true.\n",
    "- Ex.\n",
    "    h0: Person is innocent.\n",
    "    h1: Person is murderer.\n",
    "\n",
    "type 1 error - innocent person is declared murderer"
   ]
  },
  {
   "cell_type": "code",
   "execution_count": null,
   "id": "aa1942e1-5bd6-4a0d-b9c5-fcadee7a0371",
   "metadata": {},
   "outputs": [],
   "source": []
  },
  {
   "cell_type": "markdown",
   "id": "68679bcb-0a12-4fc3-a783-2b036793babc",
   "metadata": {},
   "source": [
    "Q 8 \n",
    "\n",
    "there are two statistical test to determine the data is normally distributed or not:\n",
    "\n",
    "1) Shapiro-wilk test:\n",
    "- shapiro wilk test is used when number of observations are less than 5000.\n",
    "2) Jarque berra test:\n",
    "- It is used when number of observation are more tha 5000.\n",
    "\n",
    "Hypothesis testing:\n",
    "\n",
    "H0: Data is normalized\n",
    "H1: Data is not normalized"
   ]
  },
  {
   "cell_type": "markdown",
   "id": "3f3d03dd-7723-457e-aa75-d0b4d7cd0729",
   "metadata": {},
   "source": [
    "Q 9\n",
    "\n",
    "Assumption of linear regression:\n",
    "\n",
    "1)linearity - there should be linearity between dependent and independent variables\n",
    "2)residuals should be normalized\n",
    "3)homoscedasticity - variance should be constant among residuals\n",
    "4) No multicollinearity: there should not be collinearity between independent variables\n",
    "5) No autocorrelation between residuals"
   ]
  },
  {
   "cell_type": "markdown",
   "id": "ca8b9c57-ee71-42ec-a0cc-a59ea0cc7906",
   "metadata": {},
   "source": [
    "Q 10\n",
    "\n",
    "Entrophy: \n",
    "-It is measure of impure data\n",
    "-root node has highest entrophy\n",
    "\n",
    "formula: -PilogPi\n",
    "\n",
    "Information gain:\n",
    "-Information gain used to select root node in decision tree.\n",
    "- Root node is selected based on highest information gain\n",
    "\n",
    "formula: entrophy(parent)- weighted entrophy of(child)"
   ]
  },
  {
   "cell_type": "code",
   "execution_count": 51,
   "id": "b997b3f7-6de7-4cef-9237-b878379f7f7b",
   "metadata": {},
   "outputs": [],
   "source": [
    "#Q 11\n",
    "import pandas as pd\n",
    "df=pd.read_csv('loan_data_set.csv')"
   ]
  },
  {
   "cell_type": "code",
   "execution_count": 52,
   "id": "70f14f4a-9149-4e0b-8c1b-9792927ebaa9",
   "metadata": {},
   "outputs": [
    {
     "data": {
      "text/html": [
       "<div>\n",
       "<style scoped>\n",
       "    .dataframe tbody tr th:only-of-type {\n",
       "        vertical-align: middle;\n",
       "    }\n",
       "\n",
       "    .dataframe tbody tr th {\n",
       "        vertical-align: top;\n",
       "    }\n",
       "\n",
       "    .dataframe thead th {\n",
       "        text-align: right;\n",
       "    }\n",
       "</style>\n",
       "<table border=\"1\" class=\"dataframe\">\n",
       "  <thead>\n",
       "    <tr style=\"text-align: right;\">\n",
       "      <th></th>\n",
       "      <th>Loan_ID</th>\n",
       "      <th>Gender</th>\n",
       "      <th>Married</th>\n",
       "      <th>Dependents</th>\n",
       "      <th>Education</th>\n",
       "      <th>Self_Employed</th>\n",
       "      <th>ApplicantIncome</th>\n",
       "      <th>CoapplicantIncome</th>\n",
       "      <th>LoanAmount</th>\n",
       "      <th>Loan_Amount_Term</th>\n",
       "      <th>Credit_History</th>\n",
       "      <th>Property_Area</th>\n",
       "      <th>Loan_Status</th>\n",
       "    </tr>\n",
       "  </thead>\n",
       "  <tbody>\n",
       "    <tr>\n",
       "      <th>0</th>\n",
       "      <td>LP001002</td>\n",
       "      <td>Male</td>\n",
       "      <td>No</td>\n",
       "      <td>0</td>\n",
       "      <td>Graduate</td>\n",
       "      <td>No</td>\n",
       "      <td>5849</td>\n",
       "      <td>0.0</td>\n",
       "      <td>NaN</td>\n",
       "      <td>360.0</td>\n",
       "      <td>1.0</td>\n",
       "      <td>Urban</td>\n",
       "      <td>Y</td>\n",
       "    </tr>\n",
       "    <tr>\n",
       "      <th>1</th>\n",
       "      <td>LP001003</td>\n",
       "      <td>Male</td>\n",
       "      <td>Yes</td>\n",
       "      <td>1</td>\n",
       "      <td>Graduate</td>\n",
       "      <td>No</td>\n",
       "      <td>4583</td>\n",
       "      <td>1508.0</td>\n",
       "      <td>128.0</td>\n",
       "      <td>360.0</td>\n",
       "      <td>1.0</td>\n",
       "      <td>Rural</td>\n",
       "      <td>N</td>\n",
       "    </tr>\n",
       "    <tr>\n",
       "      <th>2</th>\n",
       "      <td>LP001005</td>\n",
       "      <td>Male</td>\n",
       "      <td>Yes</td>\n",
       "      <td>0</td>\n",
       "      <td>Graduate</td>\n",
       "      <td>Yes</td>\n",
       "      <td>3000</td>\n",
       "      <td>0.0</td>\n",
       "      <td>66.0</td>\n",
       "      <td>360.0</td>\n",
       "      <td>1.0</td>\n",
       "      <td>Urban</td>\n",
       "      <td>Y</td>\n",
       "    </tr>\n",
       "    <tr>\n",
       "      <th>3</th>\n",
       "      <td>LP001006</td>\n",
       "      <td>Male</td>\n",
       "      <td>Yes</td>\n",
       "      <td>0</td>\n",
       "      <td>Not Graduate</td>\n",
       "      <td>No</td>\n",
       "      <td>2583</td>\n",
       "      <td>2358.0</td>\n",
       "      <td>120.0</td>\n",
       "      <td>360.0</td>\n",
       "      <td>1.0</td>\n",
       "      <td>Urban</td>\n",
       "      <td>Y</td>\n",
       "    </tr>\n",
       "    <tr>\n",
       "      <th>4</th>\n",
       "      <td>LP001008</td>\n",
       "      <td>Male</td>\n",
       "      <td>No</td>\n",
       "      <td>0</td>\n",
       "      <td>Graduate</td>\n",
       "      <td>No</td>\n",
       "      <td>6000</td>\n",
       "      <td>0.0</td>\n",
       "      <td>141.0</td>\n",
       "      <td>360.0</td>\n",
       "      <td>1.0</td>\n",
       "      <td>Urban</td>\n",
       "      <td>Y</td>\n",
       "    </tr>\n",
       "  </tbody>\n",
       "</table>\n",
       "</div>"
      ],
      "text/plain": [
       "    Loan_ID Gender Married Dependents     Education Self_Employed  \\\n",
       "0  LP001002   Male      No          0      Graduate            No   \n",
       "1  LP001003   Male     Yes          1      Graduate            No   \n",
       "2  LP001005   Male     Yes          0      Graduate           Yes   \n",
       "3  LP001006   Male     Yes          0  Not Graduate            No   \n",
       "4  LP001008   Male      No          0      Graduate            No   \n",
       "\n",
       "   ApplicantIncome  CoapplicantIncome  LoanAmount  Loan_Amount_Term  \\\n",
       "0             5849                0.0         NaN             360.0   \n",
       "1             4583             1508.0       128.0             360.0   \n",
       "2             3000                0.0        66.0             360.0   \n",
       "3             2583             2358.0       120.0             360.0   \n",
       "4             6000                0.0       141.0             360.0   \n",
       "\n",
       "   Credit_History Property_Area Loan_Status  \n",
       "0             1.0         Urban           Y  \n",
       "1             1.0         Rural           N  \n",
       "2             1.0         Urban           Y  \n",
       "3             1.0         Urban           Y  \n",
       "4             1.0         Urban           Y  "
      ]
     },
     "execution_count": 52,
     "metadata": {},
     "output_type": "execute_result"
    }
   ],
   "source": [
    "df.head()"
   ]
  },
  {
   "cell_type": "code",
   "execution_count": 53,
   "id": "57c9cc8c-da1c-4917-8588-4eb9fa78616e",
   "metadata": {},
   "outputs": [
    {
     "data": {
      "text/plain": [
       "(614, 13)"
      ]
     },
     "execution_count": 53,
     "metadata": {},
     "output_type": "execute_result"
    }
   ],
   "source": [
    "df.shape"
   ]
  },
  {
   "cell_type": "code",
   "execution_count": 54,
   "id": "47d4f5d1-421e-46a4-a5a3-4bffa390c41c",
   "metadata": {},
   "outputs": [
    {
     "data": {
      "text/plain": [
       "<bound method NDFrame.describe of       Loan_ID  Gender Married Dependents     Education Self_Employed  \\\n",
       "0    LP001002    Male      No          0      Graduate            No   \n",
       "1    LP001003    Male     Yes          1      Graduate            No   \n",
       "2    LP001005    Male     Yes          0      Graduate           Yes   \n",
       "3    LP001006    Male     Yes          0  Not Graduate            No   \n",
       "4    LP001008    Male      No          0      Graduate            No   \n",
       "..        ...     ...     ...        ...           ...           ...   \n",
       "609  LP002978  Female      No          0      Graduate            No   \n",
       "610  LP002979    Male     Yes         3+      Graduate            No   \n",
       "611  LP002983    Male     Yes          1      Graduate            No   \n",
       "612  LP002984    Male     Yes          2      Graduate            No   \n",
       "613  LP002990  Female      No          0      Graduate           Yes   \n",
       "\n",
       "     ApplicantIncome  CoapplicantIncome  LoanAmount  Loan_Amount_Term  \\\n",
       "0               5849                0.0         NaN             360.0   \n",
       "1               4583             1508.0       128.0             360.0   \n",
       "2               3000                0.0        66.0             360.0   \n",
       "3               2583             2358.0       120.0             360.0   \n",
       "4               6000                0.0       141.0             360.0   \n",
       "..               ...                ...         ...               ...   \n",
       "609             2900                0.0        71.0             360.0   \n",
       "610             4106                0.0        40.0             180.0   \n",
       "611             8072              240.0       253.0             360.0   \n",
       "612             7583                0.0       187.0             360.0   \n",
       "613             4583                0.0       133.0             360.0   \n",
       "\n",
       "     Credit_History Property_Area Loan_Status  \n",
       "0               1.0         Urban           Y  \n",
       "1               1.0         Rural           N  \n",
       "2               1.0         Urban           Y  \n",
       "3               1.0         Urban           Y  \n",
       "4               1.0         Urban           Y  \n",
       "..              ...           ...         ...  \n",
       "609             1.0         Rural           Y  \n",
       "610             1.0         Rural           Y  \n",
       "611             1.0         Urban           Y  \n",
       "612             1.0         Urban           Y  \n",
       "613             0.0     Semiurban           N  \n",
       "\n",
       "[614 rows x 13 columns]>"
      ]
     },
     "execution_count": 54,
     "metadata": {},
     "output_type": "execute_result"
    }
   ],
   "source": [
    "df.describe"
   ]
  },
  {
   "cell_type": "code",
   "execution_count": 48,
   "id": "970af886-c10f-42ee-8437-9cf79314f98e",
   "metadata": {},
   "outputs": [
    {
     "data": {
      "text/plain": [
       "Loan_ID               0\n",
       "Gender               13\n",
       "Married               3\n",
       "Dependents           15\n",
       "Education             0\n",
       "Self_Employed        32\n",
       "ApplicantIncome       0\n",
       "CoapplicantIncome     0\n",
       "LoanAmount           22\n",
       "Loan_Amount_Term     14\n",
       "Credit_History       50\n",
       "Property_Area         0\n",
       "Loan_Status           0\n",
       "dtype: int64"
      ]
     },
     "execution_count": 48,
     "metadata": {},
     "output_type": "execute_result"
    }
   ],
   "source": [
    "df.isnull().sum()"
   ]
  },
  {
   "cell_type": "code",
   "execution_count": null,
   "id": "64212399-c6f1-4f7b-9cf3-19b2070866f0",
   "metadata": {},
   "outputs": [],
   "source": []
  },
  {
   "cell_type": "code",
   "execution_count": null,
   "id": "0668dbcf-160c-4eb7-9ef9-2f77ba66755a",
   "metadata": {},
   "outputs": [],
   "source": []
  },
  {
   "cell_type": "code",
   "execution_count": null,
   "id": "7847a22c-f10c-4b54-8ef0-4db9c96f76a2",
   "metadata": {},
   "outputs": [],
   "source": []
  },
  {
   "cell_type": "code",
   "execution_count": null,
   "id": "c41ae82d-1297-4630-994d-9b5862069a02",
   "metadata": {},
   "outputs": [],
   "source": []
  }
 ],
 "metadata": {
  "kernelspec": {
   "display_name": "Python 3 (ipykernel)",
   "language": "python",
   "name": "python3"
  },
  "language_info": {
   "codemirror_mode": {
    "name": "ipython",
    "version": 3
   },
   "file_extension": ".py",
   "mimetype": "text/x-python",
   "name": "python",
   "nbconvert_exporter": "python",
   "pygments_lexer": "ipython3",
   "version": "3.12.7"
  }
 },
 "nbformat": 4,
 "nbformat_minor": 5
}
